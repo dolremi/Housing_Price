{
 "cells": [
  {
   "cell_type": "markdown",
   "metadata": {},
   "source": [
    "# The primary dataset generation\n",
    "This notebook we will create datasets that can be used to feature selection. The major procedure includes filling out the missing values, drop the features that majority of them are missing, do the log transform for the numerical features, generate the interaction features. For categorical features, there are three different approaches, one is the regular [One Hot Encoder](http://scikit-learn.org/stable/modules/generated/sklearn.preprocessing.OneHotEncoder.html), the other approach is [Empirical Bayesian Method](http://helios.mm.di.uoa.gr/~rouvas/ssi/sigkdd/sigkdd.vol3.1/barreca.pdf) and last one is to encoding according to ordering [based on mean of the target value](https://www.kaggle.com/dgawlik/house-prices-eda) .We can generate three different ways to generate the dataset. After all the procedure, we will do the standardization to get mearn 0 and standard deviation of 1.  "
   ]
  },
  {
   "cell_type": "code",
   "execution_count": 1,
   "metadata": {
    "collapsed": true
   },
   "outputs": [],
   "source": [
    "import pandas as pd\n",
    "import numpy as np\n",
    "import seaborn as sns\n",
    "import scipy.stats as st\n",
    "import matplotlib.pyplot as plt\n",
    "%matplotlib inline \n",
    "plt.style.use('ggplot')\n",
    "import warnings\n",
    "import json\n",
    "import pickle\n",
    "from sklearn.preprocessing import Imputer\n",
    "warnings.filterwarnings('ignore')"
   ]
  },
  {
   "cell_type": "code",
   "execution_count": 2,
   "metadata": {
    "collapsed": true
   },
   "outputs": [],
   "source": [
    "training = \"../../data/train.csv\"\n",
    "test = \"../../data/test.csv\"\n",
    "modified = \"../../data/modified/\""
   ]
  },
  {
   "cell_type": "code",
   "execution_count": 3,
   "metadata": {
    "collapsed": true
   },
   "outputs": [],
   "source": [
    "df_train = pd.read_csv(training)\n",
    "df_test = pd.read_csv(test)"
   ]
  },
  {
   "cell_type": "markdown",
   "metadata": {},
   "source": [
    "## Outliers\n",
    "Those data `with more than 4000 square feet` can be considered as outlier according to the [paper](https://ww2.amstat.org/publications/jse/v19n3/decock.pdf). We can remove them in the training data at first."
   ]
  },
  {
   "cell_type": "code",
   "execution_count": 4,
   "metadata": {
    "collapsed": true
   },
   "outputs": [],
   "source": [
    "df_train = df_train[df_train.GrLivArea < 4000]"
   ]
  },
  {
   "cell_type": "markdown",
   "metadata": {},
   "source": [
    "## Missing values\n",
    "We can drop some features that most of which are missing values, which doesn't contribute much to our target value -- housing price."
   ]
  },
  {
   "cell_type": "code",
   "execution_count": 5,
   "metadata": {
    "collapsed": true
   },
   "outputs": [],
   "source": [
    "drop_missing = [\"PoolQC\", \"MiscFeature\", \"Alley\", \"Fence\"]"
   ]
  },
  {
   "cell_type": "code",
   "execution_count": 6,
   "metadata": {
    "collapsed": true
   },
   "outputs": [],
   "source": [
    "df_train.drop(drop_missing, inplace=True, axis=1)\n",
    "df_test.drop(drop_missing, inplace=True, axis=1)"
   ]
  },
  {
   "cell_type": "code",
   "execution_count": 7,
   "metadata": {
    "collapsed": true
   },
   "outputs": [],
   "source": [
    "def fill_specific(data, spec):\n",
    "    col = []\n",
    "    for key, val in spec.items():\n",
    "        if isinstance(val, list):\n",
    "            for item in val:\n",
    "                if item in data.columns.values:\n",
    "                    data[item].fillna(key, inplace=True)\n",
    "                    print(\"Column {0} 's empty value has been replaced by {1}\".format(item, key))\n",
    "                    col.append(item)\n",
    "                else:\n",
    "                    print(\"{0} is not a column in the dataset.\".format(item))\n",
    "        else:\n",
    "            print(\"To replace NA values with {0}, a list needs to be specified.\".format(key))\n",
    "    print(\"\\n Now the columns have been updated:\")\n",
    "    print(col)"
   ]
  },
  {
   "cell_type": "code",
   "execution_count": 8,
   "metadata": {
    "collapsed": true
   },
   "outputs": [],
   "source": [
    "fill_dict = {\"NoBsmt\": [\"BsmtFinType1\", \"BsmtCond\", \"BsmtFinType2\", \"BsmtExposure\", \"BsmtQual\"],\n",
    "             \"NoGarage\": [\"GarageCond\", \"GarageQual\", \"GarageFinish\", \"GarageType\"],\n",
    "             \"NoPool\": [\"PoolQC\"],\n",
    "             \"NoFirePlace\": [\"FireplaceQu\"],\n",
    "             \"NoFence\":[\"Fence\"],\n",
    "             \"NoAccess\": [\"Alley\"],\n",
    "             \"None\": [\"MiscFeature\", \"MasVnrType\"]\n",
    "             }"
   ]
  },
  {
   "cell_type": "code",
   "execution_count": 9,
   "metadata": {},
   "outputs": [
    {
     "name": "stdout",
     "output_type": "stream",
     "text": [
      "Column GarageCond 's empty value has been replaced by NoGarage\n",
      "Column GarageQual 's empty value has been replaced by NoGarage\n",
      "Column GarageFinish 's empty value has been replaced by NoGarage\n",
      "Column GarageType 's empty value has been replaced by NoGarage\n",
      "Column BsmtFinType1 's empty value has been replaced by NoBsmt\n",
      "Column BsmtCond 's empty value has been replaced by NoBsmt\n",
      "Column BsmtFinType2 's empty value has been replaced by NoBsmt\n",
      "Column BsmtExposure 's empty value has been replaced by NoBsmt\n",
      "Column BsmtQual 's empty value has been replaced by NoBsmt\n",
      "Alley is not a column in the dataset.\n",
      "MiscFeature is not a column in the dataset.\n",
      "Column MasVnrType 's empty value has been replaced by None\n",
      "PoolQC is not a column in the dataset.\n",
      "Column FireplaceQu 's empty value has been replaced by NoFirePlace\n",
      "Fence is not a column in the dataset.\n",
      "\n",
      " Now the columns have been updated:\n",
      "['GarageCond', 'GarageQual', 'GarageFinish', 'GarageType', 'BsmtFinType1', 'BsmtCond', 'BsmtFinType2', 'BsmtExposure', 'BsmtQual', 'MasVnrType', 'FireplaceQu']\n"
     ]
    }
   ],
   "source": [
    "fill_specific(df_train,fill_dict)"
   ]
  },
  {
   "cell_type": "code",
   "execution_count": 10,
   "metadata": {},
   "outputs": [
    {
     "name": "stdout",
     "output_type": "stream",
     "text": [
      "Column GarageCond 's empty value has been replaced by NoGarage\n",
      "Column GarageQual 's empty value has been replaced by NoGarage\n",
      "Column GarageFinish 's empty value has been replaced by NoGarage\n",
      "Column GarageType 's empty value has been replaced by NoGarage\n",
      "Column BsmtFinType1 's empty value has been replaced by NoBsmt\n",
      "Column BsmtCond 's empty value has been replaced by NoBsmt\n",
      "Column BsmtFinType2 's empty value has been replaced by NoBsmt\n",
      "Column BsmtExposure 's empty value has been replaced by NoBsmt\n",
      "Column BsmtQual 's empty value has been replaced by NoBsmt\n",
      "Alley is not a column in the dataset.\n",
      "MiscFeature is not a column in the dataset.\n",
      "Column MasVnrType 's empty value has been replaced by None\n",
      "PoolQC is not a column in the dataset.\n",
      "Column FireplaceQu 's empty value has been replaced by NoFirePlace\n",
      "Fence is not a column in the dataset.\n",
      "\n",
      " Now the columns have been updated:\n",
      "['GarageCond', 'GarageQual', 'GarageFinish', 'GarageType', 'BsmtFinType1', 'BsmtCond', 'BsmtFinType2', 'BsmtExposure', 'BsmtQual', 'MasVnrType', 'FireplaceQu']\n"
     ]
    }
   ],
   "source": [
    "fill_specific(df_test, fill_dict)"
   ]
  },
  {
   "cell_type": "code",
   "execution_count": 11,
   "metadata": {
    "collapsed": true
   },
   "outputs": [],
   "source": [
    "def calculate_empty(input_data, value=0):\n",
    "    \"\"\"\n",
    "    Find the all the columns with empty values with descending order, where the number of the empty values is larger\n",
    "    than value\n",
    "    :param input_data: the input data as a Pandas DataFrame\n",
    "    :param value: the minimum number of the empty values in the column\n",
    "    :return: A Pandas Series having empty values with column name and number of empty values\n",
    "    \"\"\"\n",
    "    if not isinstance(input_data, pd.DataFrame):\n",
    "        raise TypeError(\"Input data is not a valid Pandas DataFrame\")\n",
    "    columns = input_data.isnull().sum()\n",
    "    columns = columns[columns > value]\n",
    "    columns.sort_values(ascending=False, inplace=True)\n",
    "    return columns"
   ]
  },
  {
   "cell_type": "code",
   "execution_count": 12,
   "metadata": {
    "collapsed": true
   },
   "outputs": [],
   "source": [
    "def current_empty(input_data):\n",
    "    \"\"\"\n",
    "    Compute the list of the column names with empty values\n",
    "    :param input_data: the input data as a Pandas DataFrame\n",
    "    :return: A list of the column names with empty values\n",
    "    \"\"\"\n",
    "    cols = list(calculate_empty(input_data).index)\n",
    "    if cols:\n",
    "        print(\"Now the column name(s) that have empty values are:\")\n",
    "        print(calculate_empty(input_data))\n",
    "    else:\n",
    "        print(\"There are no empty values in the data.\")\n",
    "    return cols"
   ]
  },
  {
   "cell_type": "code",
   "execution_count": 13,
   "metadata": {},
   "outputs": [
    {
     "name": "stdout",
     "output_type": "stream",
     "text": [
      "Now the column name(s) that have empty values are:\n",
      "LotFrontage    259\n",
      "GarageYrBlt     81\n",
      "MasVnrArea       8\n",
      "Electrical       1\n",
      "dtype: int64\n"
     ]
    },
    {
     "data": {
      "text/plain": [
       "['LotFrontage', 'GarageYrBlt', 'MasVnrArea', 'Electrical']"
      ]
     },
     "execution_count": 13,
     "metadata": {},
     "output_type": "execute_result"
    }
   ],
   "source": [
    "current_empty(df_train)"
   ]
  },
  {
   "cell_type": "code",
   "execution_count": 14,
   "metadata": {},
   "outputs": [
    {
     "name": "stdout",
     "output_type": "stream",
     "text": [
      "Now the column name(s) that have empty values are:\n",
      "LotFrontage     227\n",
      "GarageYrBlt      78\n",
      "MasVnrArea       15\n",
      "MSZoning          4\n",
      "Functional        2\n",
      "Utilities         2\n",
      "BsmtHalfBath      2\n",
      "BsmtFullBath      2\n",
      "BsmtFinSF1        1\n",
      "Exterior1st       1\n",
      "Exterior2nd       1\n",
      "SaleType          1\n",
      "BsmtFinSF2        1\n",
      "GarageArea        1\n",
      "TotalBsmtSF       1\n",
      "KitchenQual       1\n",
      "GarageCars        1\n",
      "BsmtUnfSF         1\n",
      "dtype: int64\n"
     ]
    },
    {
     "data": {
      "text/plain": [
       "['LotFrontage',\n",
       " 'GarageYrBlt',\n",
       " 'MasVnrArea',\n",
       " 'MSZoning',\n",
       " 'Functional',\n",
       " 'Utilities',\n",
       " 'BsmtHalfBath',\n",
       " 'BsmtFullBath',\n",
       " 'BsmtFinSF1',\n",
       " 'Exterior1st',\n",
       " 'Exterior2nd',\n",
       " 'SaleType',\n",
       " 'BsmtFinSF2',\n",
       " 'GarageArea',\n",
       " 'TotalBsmtSF',\n",
       " 'KitchenQual',\n",
       " 'GarageCars',\n",
       " 'BsmtUnfSF']"
      ]
     },
     "execution_count": 14,
     "metadata": {},
     "output_type": "execute_result"
    }
   ],
   "source": [
    "current_empty(df_test)"
   ]
  },
  {
   "cell_type": "markdown",
   "metadata": {},
   "source": [
    "### Garage features\n",
    "There is one mising value in `GarageArea` and `GarageCars` in the test data. We can have a look at the garage type in this case."
   ]
  },
  {
   "cell_type": "code",
   "execution_count": 15,
   "metadata": {},
   "outputs": [
    {
     "name": "stdout",
     "output_type": "stream",
     "text": [
      "The GarageType is Detchd, when the Garage Area is empty.\n"
     ]
    }
   ],
   "source": [
    "Garagetype = df_test.loc[df_test.GarageArea.isnull(),'GarageType']\n",
    "print (\"The GarageType is \" + Garagetype.values[0] +\n",
    "       \", when the Garage Area is empty.\")"
   ]
  },
  {
   "cell_type": "markdown",
   "metadata": {},
   "source": [
    "We can replace the missing value with the median value of `GarageArea` and `GarageCars` when the `GarageType` is `Detchd`. "
   ]
  },
  {
   "cell_type": "code",
   "execution_count": 16,
   "metadata": {
    "collapsed": true
   },
   "outputs": [],
   "source": [
    "def fill_group(data, group):\n",
    "    \"\"\"\n",
    "    This function will go through the dictionary of group, for each column as key[0] has a value of key[1], it will\n",
    "    fill those columns' empty values in the corresponding list as the mode of the group in column key[0] with value\n",
    "    key[1] if it is category, or median of the group in column key[0] with value key[1] if it is a numeric one.\n",
    "    :param group: A dictionary has the key as the tuple of (col1, val1) and value as a list\n",
    "    :return:\n",
    "    \"\"\"\n",
    "    if not isinstance(group, dict):\n",
    "        raise TypeError(\"A dictionary needs to be passed to specify how to fill empty values with group\")\n",
    "\n",
    "    col = []\n",
    "    value = 0\n",
    "    for key, val in group.items():\n",
    "        if key[0] in data.columns.values:\n",
    "            if isinstance(val, list):\n",
    "                for item in val:\n",
    "                    if item in data.columns.values:\n",
    "                        if data[item].dtypes == \"object\":\n",
    "                            value = data.loc[data[key[0]] == key[1], item].mode()[0]\n",
    "                        else:\n",
    "                            value = data.loc[data[key[0]] == key[1], item].median()\n",
    "                        data[item].fillna(value, inplace=True)\n",
    "                        print(\"Now column {0} 's empty value has been replaced by {1}\".format(item, value))\n",
    "                        col.append(item)\n",
    "\n",
    "            else:\n",
    "                print(\"To replace {0}, a list needs to be specified.\".format(key[1]))\n",
    "\n",
    "        else:\n",
    "            print(\"{0} is not a column in the dataset.\".format(key[0]))\n",
    "    print(\"\\n Now the columns have been updated:\")\n",
    "    print(col)"
   ]
  },
  {
   "cell_type": "code",
   "execution_count": 17,
   "metadata": {
    "collapsed": true
   },
   "outputs": [],
   "source": [
    "group = {(\"GarageType\", \"Detchd\"): [\"GarageArea\", \"GarageCars\"] }"
   ]
  },
  {
   "cell_type": "code",
   "execution_count": 18,
   "metadata": {},
   "outputs": [
    {
     "name": "stdout",
     "output_type": "stream",
     "text": [
      "Now column GarageArea 's empty value has been replaced by 384.0\n",
      "Now column GarageCars 's empty value has been replaced by 1.0\n",
      "\n",
      " Now the columns have been updated:\n",
      "['GarageArea', 'GarageCars']\n"
     ]
    }
   ],
   "source": [
    "fill_group(df_test,group)"
   ]
  },
  {
   "cell_type": "code",
   "execution_count": 19,
   "metadata": {},
   "outputs": [
    {
     "name": "stdout",
     "output_type": "stream",
     "text": [
      "Now the column name(s) that have empty values are:\n",
      "LotFrontage     227\n",
      "GarageYrBlt      78\n",
      "MasVnrArea       15\n",
      "MSZoning          4\n",
      "Functional        2\n",
      "BsmtHalfBath      2\n",
      "BsmtFullBath      2\n",
      "Utilities         2\n",
      "SaleType          1\n",
      "KitchenQual       1\n",
      "TotalBsmtSF       1\n",
      "BsmtUnfSF         1\n",
      "BsmtFinSF2        1\n",
      "BsmtFinSF1        1\n",
      "Exterior2nd       1\n",
      "Exterior1st       1\n",
      "dtype: int64\n"
     ]
    },
    {
     "data": {
      "text/plain": [
       "['LotFrontage',\n",
       " 'GarageYrBlt',\n",
       " 'MasVnrArea',\n",
       " 'MSZoning',\n",
       " 'Functional',\n",
       " 'BsmtHalfBath',\n",
       " 'BsmtFullBath',\n",
       " 'Utilities',\n",
       " 'SaleType',\n",
       " 'KitchenQual',\n",
       " 'TotalBsmtSF',\n",
       " 'BsmtUnfSF',\n",
       " 'BsmtFinSF2',\n",
       " 'BsmtFinSF1',\n",
       " 'Exterior2nd',\n",
       " 'Exterior1st']"
      ]
     },
     "execution_count": 19,
     "metadata": {},
     "output_type": "execute_result"
    }
   ],
   "source": [
    "current_empty(df_test)"
   ]
  },
  {
   "cell_type": "code",
   "execution_count": 20,
   "metadata": {
    "collapsed": true
   },
   "outputs": [],
   "source": [
    "def convert_value(data, matching):\n",
    "    if not isinstance(matching, dict):\n",
    "        raise TypeError(\"A dictionary needs to be passed to convert the columns.\")\n",
    "\n",
    "    col = []\n",
    "    for key, val in matching.items():\n",
    "        if isinstance(val, list):\n",
    "            for item in val:\n",
    "                if item[0] in data.columns.values and item[1] in data.columns.values:\n",
    "                    data.loc[data[item[0]] == key[0], item[1]] = key[1]\n",
    "                    col.append(item[1])\n",
    "                else:\n",
    "                    print(\"Please check the column names, {0} or {1} may not be a valid column name\".format(item[0],item[1]))\n",
    "        else:\n",
    "            print(\"The columns to convert need to be a list.\")\n",
    "    print(\"\\n Now the columns have been updated:\")\n",
    "    print(col)"
   ]
  },
  {
   "cell_type": "code",
   "execution_count": 21,
   "metadata": {
    "collapsed": true
   },
   "outputs": [],
   "source": [
    "value_matching = {\n",
    "    (\"NoBsmt\", 0): [(\"BsmtFinType1\", \"BsmtFinSF1\"), (\"BsmtFinType2\", \"BsmtFinSF2\"), (\"BsmtQual\", \"TotalBsmtSF\"),\n",
    "                    (\"BsmtQual\", \"BsmtUnfSF\")\n",
    "                    ],\n",
    "    (\"None\", 0):[(\"MasVnrType\",\"MasVnrArea\")],\n",
    "    (\"NoGarage\", 0) : [(\"GarageType\", \"GarageCars\"), (\"GarageType\", \"GarageArea\")],\n",
    "    (\"NoFirePlace\", 0): [(\"FireplaceQu\", \"Fireplaces\")]\n",
    "}"
   ]
  },
  {
   "cell_type": "code",
   "execution_count": 22,
   "metadata": {},
   "outputs": [
    {
     "name": "stdout",
     "output_type": "stream",
     "text": [
      "\n",
      " Now the columns have been updated:\n",
      "['BsmtFinSF1', 'BsmtFinSF2', 'TotalBsmtSF', 'BsmtUnfSF', 'GarageCars', 'GarageArea', 'MasVnrArea', 'Fireplaces']\n"
     ]
    }
   ],
   "source": [
    "convert_value(df_train, value_matching)"
   ]
  },
  {
   "cell_type": "code",
   "execution_count": 23,
   "metadata": {},
   "outputs": [
    {
     "name": "stdout",
     "output_type": "stream",
     "text": [
      "Now the column name(s) that have empty values are:\n",
      "LotFrontage    259\n",
      "GarageYrBlt     81\n",
      "Electrical       1\n",
      "dtype: int64\n"
     ]
    },
    {
     "data": {
      "text/plain": [
       "['LotFrontage', 'GarageYrBlt', 'Electrical']"
      ]
     },
     "execution_count": 23,
     "metadata": {},
     "output_type": "execute_result"
    }
   ],
   "source": [
    "current_empty(df_train)"
   ]
  },
  {
   "cell_type": "code",
   "execution_count": 24,
   "metadata": {},
   "outputs": [
    {
     "name": "stdout",
     "output_type": "stream",
     "text": [
      "\n",
      " Now the columns have been updated:\n",
      "['BsmtFinSF1', 'BsmtFinSF2', 'TotalBsmtSF', 'BsmtUnfSF', 'GarageCars', 'GarageArea', 'MasVnrArea', 'Fireplaces']\n"
     ]
    }
   ],
   "source": [
    "convert_value(df_test, value_matching)"
   ]
  },
  {
   "cell_type": "code",
   "execution_count": 25,
   "metadata": {},
   "outputs": [
    {
     "name": "stdout",
     "output_type": "stream",
     "text": [
      "Now the column name(s) that have empty values are:\n",
      "LotFrontage     227\n",
      "GarageYrBlt      78\n",
      "MSZoning          4\n",
      "Functional        2\n",
      "BsmtHalfBath      2\n",
      "BsmtFullBath      2\n",
      "Utilities         2\n",
      "SaleType          1\n",
      "KitchenQual       1\n",
      "Exterior2nd       1\n",
      "Exterior1st       1\n",
      "dtype: int64\n"
     ]
    },
    {
     "data": {
      "text/plain": [
       "['LotFrontage',\n",
       " 'GarageYrBlt',\n",
       " 'MSZoning',\n",
       " 'Functional',\n",
       " 'BsmtHalfBath',\n",
       " 'BsmtFullBath',\n",
       " 'Utilities',\n",
       " 'SaleType',\n",
       " 'KitchenQual',\n",
       " 'Exterior2nd',\n",
       " 'Exterior1st']"
      ]
     },
     "execution_count": 25,
     "metadata": {},
     "output_type": "execute_result"
    }
   ],
   "source": [
    "current_empty(df_test)"
   ]
  },
  {
   "cell_type": "markdown",
   "metadata": {},
   "source": [
    "### Garage Year Built\n",
    "2216 of the 2919 houses have same year for for `GarageYrBlt` and `YearBuilt`.Replace any of the NA’s for `GarageYrBlt` with the year from `YearBuilt`."
   ]
  },
  {
   "cell_type": "code",
   "execution_count": 26,
   "metadata": {
    "collapsed": true
   },
   "outputs": [],
   "source": [
    "df_train['GarageYrBlt'].fillna(df_train['YearBuilt'], inplace=True)"
   ]
  },
  {
   "cell_type": "code",
   "execution_count": 27,
   "metadata": {},
   "outputs": [
    {
     "name": "stdout",
     "output_type": "stream",
     "text": [
      "Now the column name(s) that have empty values are:\n",
      "LotFrontage    259\n",
      "Electrical       1\n",
      "dtype: int64\n"
     ]
    },
    {
     "data": {
      "text/plain": [
       "['LotFrontage', 'Electrical']"
      ]
     },
     "execution_count": 27,
     "metadata": {},
     "output_type": "execute_result"
    }
   ],
   "source": [
    "current_empty(df_train)"
   ]
  },
  {
   "cell_type": "code",
   "execution_count": 28,
   "metadata": {},
   "outputs": [
    {
     "name": "stdout",
     "output_type": "stream",
     "text": [
      "Now the column name(s) that have empty values are:\n",
      "LotFrontage     227\n",
      "MSZoning          4\n",
      "Functional        2\n",
      "BsmtHalfBath      2\n",
      "BsmtFullBath      2\n",
      "Utilities         2\n",
      "SaleType          1\n",
      "KitchenQual       1\n",
      "Exterior2nd       1\n",
      "Exterior1st       1\n",
      "dtype: int64\n"
     ]
    },
    {
     "data": {
      "text/plain": [
       "['LotFrontage',\n",
       " 'MSZoning',\n",
       " 'Functional',\n",
       " 'BsmtHalfBath',\n",
       " 'BsmtFullBath',\n",
       " 'Utilities',\n",
       " 'SaleType',\n",
       " 'KitchenQual',\n",
       " 'Exterior2nd',\n",
       " 'Exterior1st']"
      ]
     },
     "execution_count": 28,
     "metadata": {},
     "output_type": "execute_result"
    }
   ],
   "source": [
    "df_test['GarageYrBlt'].fillna(df_test['YearBuilt'], inplace=True)\n",
    "current_empty(df_test)"
   ]
  },
  {
   "cell_type": "markdown",
   "metadata": {},
   "source": [
    "### LotFrontage\n",
    "`LotFrontage` is the linear feet of street connected to property. We can explore its relations with `LotArea`."
   ]
  },
  {
   "cell_type": "code",
   "execution_count": 29,
   "metadata": {},
   "outputs": [
    {
     "data": {
      "text/plain": [
       "0.38757021208207809"
      ]
     },
     "execution_count": 29,
     "metadata": {},
     "output_type": "execute_result"
    }
   ],
   "source": [
    "df_train['LotFrontage'].corr(df_train['LotArea'])"
   ]
  },
  {
   "cell_type": "code",
   "execution_count": 30,
   "metadata": {},
   "outputs": [
    {
     "data": {
      "text/plain": [
       "0.6446084977757518"
      ]
     },
     "execution_count": 30,
     "metadata": {},
     "output_type": "execute_result"
    }
   ],
   "source": [
    "df_test['LotFrontage'].corr(df_test['LotArea'])"
   ]
  },
  {
   "cell_type": "markdown",
   "metadata": {},
   "source": [
    "Let's find the relation between `LotFrontage` and  the root square of `LotArea`."
   ]
  },
  {
   "cell_type": "code",
   "execution_count": 31,
   "metadata": {},
   "outputs": [
    {
     "data": {
      "text/plain": [
       "0.70300193477713013"
      ]
     },
     "execution_count": 31,
     "metadata": {},
     "output_type": "execute_result"
    }
   ],
   "source": [
    "df_test['LotFrontage'].corr(np.sqrt(df_test['LotArea']))"
   ]
  },
  {
   "cell_type": "code",
   "execution_count": 32,
   "metadata": {},
   "outputs": [
    {
     "data": {
      "text/plain": [
       "0.58015981105630132"
      ]
     },
     "execution_count": 32,
     "metadata": {},
     "output_type": "execute_result"
    }
   ],
   "source": [
    "df_train['LotFrontage'].corr(np.sqrt(df_train['LotArea']))"
   ]
  },
  {
   "cell_type": "markdown",
   "metadata": {},
   "source": [
    "We can fill the missing values of `LotFrontage` with the square root of `LotArea`."
   ]
  },
  {
   "cell_type": "code",
   "execution_count": 33,
   "metadata": {
    "collapsed": true
   },
   "outputs": [],
   "source": [
    "df_train['LotFrontage'].fillna(np.sqrt(df_train['LotArea']), inplace=True)\n",
    "df_test['LotFrontage'].fillna(np.sqrt(df_test['LotArea']), inplace=True)"
   ]
  },
  {
   "cell_type": "code",
   "execution_count": 34,
   "metadata": {},
   "outputs": [
    {
     "name": "stdout",
     "output_type": "stream",
     "text": [
      "Now the column name(s) that have empty values are:\n",
      "Electrical    1\n",
      "dtype: int64\n"
     ]
    },
    {
     "data": {
      "text/plain": [
       "['Electrical']"
      ]
     },
     "execution_count": 34,
     "metadata": {},
     "output_type": "execute_result"
    }
   ],
   "source": [
    "current_empty(df_train)"
   ]
  },
  {
   "cell_type": "code",
   "execution_count": 35,
   "metadata": {},
   "outputs": [
    {
     "name": "stdout",
     "output_type": "stream",
     "text": [
      "Now the column name(s) that have empty values are:\n",
      "MSZoning        4\n",
      "Functional      2\n",
      "BsmtHalfBath    2\n",
      "BsmtFullBath    2\n",
      "Utilities       2\n",
      "SaleType        1\n",
      "KitchenQual     1\n",
      "Exterior2nd     1\n",
      "Exterior1st     1\n",
      "dtype: int64\n"
     ]
    },
    {
     "data": {
      "text/plain": [
       "['MSZoning',\n",
       " 'Functional',\n",
       " 'BsmtHalfBath',\n",
       " 'BsmtFullBath',\n",
       " 'Utilities',\n",
       " 'SaleType',\n",
       " 'KitchenQual',\n",
       " 'Exterior2nd',\n",
       " 'Exterior1st']"
      ]
     },
     "execution_count": 35,
     "metadata": {},
     "output_type": "execute_result"
    }
   ],
   "source": [
    "current_empty(df_test)"
   ]
  },
  {
   "cell_type": "code",
   "execution_count": 36,
   "metadata": {
    "collapsed": true
   },
   "outputs": [],
   "source": [
    "df_train['Electrical'].fillna(df_train['Electrical'].value_counts().idxmax(), inplace=True)"
   ]
  },
  {
   "cell_type": "code",
   "execution_count": 37,
   "metadata": {},
   "outputs": [
    {
     "name": "stdout",
     "output_type": "stream",
     "text": [
      "There are no empty values in the data.\n"
     ]
    },
    {
     "data": {
      "text/plain": [
       "[]"
      ]
     },
     "execution_count": 37,
     "metadata": {},
     "output_type": "execute_result"
    }
   ],
   "source": [
    "current_empty(df_train)"
   ]
  },
  {
   "cell_type": "code",
   "execution_count": 38,
   "metadata": {
    "collapsed": true
   },
   "outputs": [],
   "source": [
    "placement = ['MSZoning','Functional','Utilities','SaleType','KitchenQual','Exterior2nd','Exterior1st']\n",
    "for feature in placement:\n",
    "    df_test[feature].fillna(df_train[feature].value_counts().idxmax(),inplace=True)"
   ]
  },
  {
   "cell_type": "code",
   "execution_count": 39,
   "metadata": {
    "collapsed": true
   },
   "outputs": [],
   "source": [
    "medians = ['BsmtHalfBath','BsmtFullBath' ]\n",
    "for feature in medians:\n",
    "    df_test[feature].fillna(df_train[feature].median(), inplace=True)"
   ]
  },
  {
   "cell_type": "code",
   "execution_count": 40,
   "metadata": {},
   "outputs": [
    {
     "name": "stdout",
     "output_type": "stream",
     "text": [
      "There are no empty values in the data.\n"
     ]
    },
    {
     "data": {
      "text/plain": [
       "[]"
      ]
     },
     "execution_count": 40,
     "metadata": {},
     "output_type": "execute_result"
    }
   ],
   "source": [
    "current_empty(df_test)"
   ]
  },
  {
   "cell_type": "code",
   "execution_count": 41,
   "metadata": {
    "collapsed": true
   },
   "outputs": [],
   "source": [
    "mapping = {\n",
    "    'MSSubClass': { 20: \"SubClass_20\",\n",
    "                     30: \"SubClass_30\",\n",
    "                     40: \"SubClass_40\",\n",
    "                     45: \"SubClass_45\",\n",
    "                     50: \"SubClass_50\",\n",
    "                     60: \"SubClass_60\",\n",
    "                     70: \"SubClass_70\",\n",
    "                     75: \"SubClass_75\",\n",
    "                     80: \"SubClass_80\",\n",
    "                     85: \"SubClass_85\",\n",
    "                     90: \"SubClass_90\",\n",
    "                     120: \"SubClass_120\",\n",
    "                     150: \"SubClass_150\",\n",
    "                     160: \"SubClass_160\",\n",
    "                     180: \"SubClass_180\",\n",
    "                     190: \"SubClass_190\"},\n",
    "    'MoSold': { 1:\"Jan\",\n",
    "                2:\"Feb\",\n",
    "                3:\"Mar\",\n",
    "                4:\"Apr\",\n",
    "                5:\"May\",\n",
    "                6:\"Jun\",\n",
    "                7: \"Jul\",\n",
    "                8: \"Aug\",\n",
    "                9:\"Sep\",\n",
    "               10:\"Oct\",\n",
    "               11:\"Nov\",\n",
    "               12:\"Dec\"}\n",
    "    }\n",
    "df_train.replace(mapping, inplace=True)\n",
    "df_test.replace(mapping, inplace=True)"
   ]
  },
  {
   "cell_type": "code",
   "execution_count": 42,
   "metadata": {},
   "outputs": [],
   "source": [
    "complete = modified + \"raw_complete.pkl\"\n",
    "completed = {\"train\": df_train, \"test\": df_test}\n",
    "with open(complete, 'wb') as f:\n",
    "    pickle.dump(completed, f, pickle.HIGHEST_PROTOCOL)"
   ]
  },
  {
   "cell_type": "markdown",
   "metadata": {},
   "source": [
    "## Numerical features\n",
    "For some numerical features, we need to do logarithm transformation in order to fit into some models that assumes the features are gaussian distribution."
   ]
  },
  {
   "cell_type": "code",
   "execution_count": 43,
   "metadata": {},
   "outputs": [
    {
     "name": "stdout",
     "output_type": "stream",
     "text": [
      "['Id', 'LotFrontage', 'LotArea', 'OverallQual', 'OverallCond', 'YearBuilt', 'YearRemodAdd', 'MasVnrArea', 'BsmtFinSF1', 'BsmtFinSF2', 'BsmtUnfSF', 'TotalBsmtSF', '1stFlrSF', '2ndFlrSF', 'LowQualFinSF', 'GrLivArea', 'BsmtFullBath', 'BsmtHalfBath', 'FullBath', 'HalfBath', 'BedroomAbvGr', 'KitchenAbvGr', 'TotRmsAbvGrd', 'Fireplaces', 'GarageYrBlt', 'GarageCars', 'GarageArea', 'WoodDeckSF', 'OpenPorchSF', 'EnclosedPorch', '3SsnPorch', 'ScreenPorch', 'PoolArea', 'MiscVal', 'YrSold', 'SalePrice']\n"
     ]
    }
   ],
   "source": [
    "numerical = [f for f in df_train.columns.values if df_train.dtypes[f] != 'object' ]\n",
    "print(numerical)"
   ]
  },
  {
   "cell_type": "code",
   "execution_count": 44,
   "metadata": {},
   "outputs": [],
   "source": [
    "features = ['LotArea','LotFrontage','TotalBsmtSF','1stFlrSF','2ndFlrSF','GrLivArea','KitchenAbvGr']\n",
    "for f in features:\n",
    "    df_train[f] = np.log1p(df_train[f].values)\n",
    "    df_test[f] = np.log1p(df_test[f].values)\n",
    "df_train['SalePrice'] = np.log1p(df_train['SalePrice'].values)"
   ]
  },
  {
   "cell_type": "markdown",
   "metadata": {},
   "source": [
    "## Categorical features\n",
    "There are several ways to encode categorical features for numerical numbers:\n",
    "* One Hot Encoder\n",
    "* Emperical Baysian Method\n",
    "* Encoding based on order of the average of the target values"
   ]
  },
  {
   "cell_type": "code",
   "execution_count": 45,
   "metadata": {},
   "outputs": [
    {
     "name": "stdout",
     "output_type": "stream",
     "text": [
      "['MSSubClass', 'MSZoning', 'Street', 'LotShape', 'LandContour', 'Utilities', 'LotConfig', 'LandSlope', 'Neighborhood', 'Condition1', 'Condition2', 'BldgType', 'HouseStyle', 'RoofStyle', 'RoofMatl', 'Exterior1st', 'Exterior2nd', 'MasVnrType', 'ExterQual', 'ExterCond', 'Foundation', 'BsmtQual', 'BsmtCond', 'BsmtExposure', 'BsmtFinType1', 'BsmtFinType2', 'Heating', 'HeatingQC', 'CentralAir', 'Electrical', 'KitchenQual', 'Functional', 'FireplaceQu', 'GarageType', 'GarageFinish', 'GarageQual', 'GarageCond', 'PavedDrive', 'MoSold', 'SaleType', 'SaleCondition']\n"
     ]
    }
   ],
   "source": [
    "categorical = [f for f in df_train.columns.values if df_train.dtypes[f] == 'object']\n",
    "print(categorical)"
   ]
  },
  {
   "cell_type": "markdown",
   "metadata": {},
   "source": [
    "### One Hot Encoder"
   ]
  },
  {
   "cell_type": "code",
   "execution_count": 46,
   "metadata": {},
   "outputs": [],
   "source": [
    "df_train_dummy = pd.get_dummies(df_train,columns=categorical)\n",
    "df_test_dummy = pd.get_dummies(df_test,columns=categorical)"
   ]
  },
  {
   "cell_type": "code",
   "execution_count": 47,
   "metadata": {},
   "outputs": [
    {
     "data": {
      "text/html": [
       "<div>\n",
       "<table border=\"1\" class=\"dataframe\">\n",
       "  <thead>\n",
       "    <tr style=\"text-align: right;\">\n",
       "      <th></th>\n",
       "      <th>Id</th>\n",
       "      <th>LotFrontage</th>\n",
       "      <th>LotArea</th>\n",
       "      <th>OverallQual</th>\n",
       "      <th>OverallCond</th>\n",
       "      <th>YearBuilt</th>\n",
       "      <th>YearRemodAdd</th>\n",
       "      <th>MasVnrArea</th>\n",
       "      <th>BsmtFinSF1</th>\n",
       "      <th>BsmtFinSF2</th>\n",
       "      <th>...</th>\n",
       "      <th>SaleType_ConLw</th>\n",
       "      <th>SaleType_New</th>\n",
       "      <th>SaleType_Oth</th>\n",
       "      <th>SaleType_WD</th>\n",
       "      <th>SaleCondition_Abnorml</th>\n",
       "      <th>SaleCondition_AdjLand</th>\n",
       "      <th>SaleCondition_Alloca</th>\n",
       "      <th>SaleCondition_Family</th>\n",
       "      <th>SaleCondition_Normal</th>\n",
       "      <th>SaleCondition_Partial</th>\n",
       "    </tr>\n",
       "  </thead>\n",
       "  <tbody>\n",
       "    <tr>\n",
       "      <th>count</th>\n",
       "      <td>1459.000000</td>\n",
       "      <td>1459.000000</td>\n",
       "      <td>1459.000000</td>\n",
       "      <td>1459.000000</td>\n",
       "      <td>1459.000000</td>\n",
       "      <td>1459.000000</td>\n",
       "      <td>1459.000000</td>\n",
       "      <td>1459.000000</td>\n",
       "      <td>1459.000000</td>\n",
       "      <td>1459.000000</td>\n",
       "      <td>...</td>\n",
       "      <td>1459.000000</td>\n",
       "      <td>1459.000000</td>\n",
       "      <td>1459.000000</td>\n",
       "      <td>1459.00000</td>\n",
       "      <td>1459.000000</td>\n",
       "      <td>1459.000000</td>\n",
       "      <td>1459.000000</td>\n",
       "      <td>1459.000000</td>\n",
       "      <td>1459.000000</td>\n",
       "      <td>1459.000000</td>\n",
       "    </tr>\n",
       "    <tr>\n",
       "      <th>mean</th>\n",
       "      <td>2190.000000</td>\n",
       "      <td>4.253942</td>\n",
       "      <td>9.078854</td>\n",
       "      <td>6.078821</td>\n",
       "      <td>5.553804</td>\n",
       "      <td>1971.357779</td>\n",
       "      <td>1983.662783</td>\n",
       "      <td>99.342015</td>\n",
       "      <td>438.902673</td>\n",
       "      <td>52.583276</td>\n",
       "      <td>...</td>\n",
       "      <td>0.002056</td>\n",
       "      <td>0.080192</td>\n",
       "      <td>0.002742</td>\n",
       "      <td>0.86292</td>\n",
       "      <td>0.061001</td>\n",
       "      <td>0.005483</td>\n",
       "      <td>0.008225</td>\n",
       "      <td>0.017820</td>\n",
       "      <td>0.825223</td>\n",
       "      <td>0.082248</td>\n",
       "    </tr>\n",
       "    <tr>\n",
       "      <th>std</th>\n",
       "      <td>421.321334</td>\n",
       "      <td>0.375707</td>\n",
       "      <td>0.501942</td>\n",
       "      <td>1.436812</td>\n",
       "      <td>1.113740</td>\n",
       "      <td>30.390071</td>\n",
       "      <td>21.130467</td>\n",
       "      <td>176.955080</td>\n",
       "      <td>455.257119</td>\n",
       "      <td>176.698671</td>\n",
       "      <td>...</td>\n",
       "      <td>0.045314</td>\n",
       "      <td>0.271683</td>\n",
       "      <td>0.052306</td>\n",
       "      <td>0.34405</td>\n",
       "      <td>0.239414</td>\n",
       "      <td>0.073871</td>\n",
       "      <td>0.090348</td>\n",
       "      <td>0.132344</td>\n",
       "      <td>0.379907</td>\n",
       "      <td>0.274837</td>\n",
       "    </tr>\n",
       "    <tr>\n",
       "      <th>min</th>\n",
       "      <td>1461.000000</td>\n",
       "      <td>3.091042</td>\n",
       "      <td>7.293698</td>\n",
       "      <td>1.000000</td>\n",
       "      <td>1.000000</td>\n",
       "      <td>1879.000000</td>\n",
       "      <td>1950.000000</td>\n",
       "      <td>0.000000</td>\n",
       "      <td>0.000000</td>\n",
       "      <td>0.000000</td>\n",
       "      <td>...</td>\n",
       "      <td>0.000000</td>\n",
       "      <td>0.000000</td>\n",
       "      <td>0.000000</td>\n",
       "      <td>0.00000</td>\n",
       "      <td>0.000000</td>\n",
       "      <td>0.000000</td>\n",
       "      <td>0.000000</td>\n",
       "      <td>0.000000</td>\n",
       "      <td>0.000000</td>\n",
       "      <td>0.000000</td>\n",
       "    </tr>\n",
       "    <tr>\n",
       "      <th>25%</th>\n",
       "      <td>1825.500000</td>\n",
       "      <td>4.110874</td>\n",
       "      <td>8.908154</td>\n",
       "      <td>5.000000</td>\n",
       "      <td>5.000000</td>\n",
       "      <td>1953.000000</td>\n",
       "      <td>1963.000000</td>\n",
       "      <td>0.000000</td>\n",
       "      <td>0.000000</td>\n",
       "      <td>0.000000</td>\n",
       "      <td>...</td>\n",
       "      <td>0.000000</td>\n",
       "      <td>0.000000</td>\n",
       "      <td>0.000000</td>\n",
       "      <td>1.00000</td>\n",
       "      <td>0.000000</td>\n",
       "      <td>0.000000</td>\n",
       "      <td>0.000000</td>\n",
       "      <td>0.000000</td>\n",
       "      <td>1.000000</td>\n",
       "      <td>0.000000</td>\n",
       "    </tr>\n",
       "    <tr>\n",
       "      <th>50%</th>\n",
       "      <td>2190.000000</td>\n",
       "      <td>4.262680</td>\n",
       "      <td>9.148465</td>\n",
       "      <td>6.000000</td>\n",
       "      <td>5.000000</td>\n",
       "      <td>1973.000000</td>\n",
       "      <td>1992.000000</td>\n",
       "      <td>0.000000</td>\n",
       "      <td>350.000000</td>\n",
       "      <td>0.000000</td>\n",
       "      <td>...</td>\n",
       "      <td>0.000000</td>\n",
       "      <td>0.000000</td>\n",
       "      <td>0.000000</td>\n",
       "      <td>1.00000</td>\n",
       "      <td>0.000000</td>\n",
       "      <td>0.000000</td>\n",
       "      <td>0.000000</td>\n",
       "      <td>0.000000</td>\n",
       "      <td>1.000000</td>\n",
       "      <td>0.000000</td>\n",
       "    </tr>\n",
       "    <tr>\n",
       "      <th>75%</th>\n",
       "      <td>2554.500000</td>\n",
       "      <td>4.488636</td>\n",
       "      <td>9.351710</td>\n",
       "      <td>7.000000</td>\n",
       "      <td>6.000000</td>\n",
       "      <td>2001.000000</td>\n",
       "      <td>2004.000000</td>\n",
       "      <td>161.500000</td>\n",
       "      <td>752.000000</td>\n",
       "      <td>0.000000</td>\n",
       "      <td>...</td>\n",
       "      <td>0.000000</td>\n",
       "      <td>0.000000</td>\n",
       "      <td>0.000000</td>\n",
       "      <td>1.00000</td>\n",
       "      <td>0.000000</td>\n",
       "      <td>0.000000</td>\n",
       "      <td>0.000000</td>\n",
       "      <td>0.000000</td>\n",
       "      <td>1.000000</td>\n",
       "      <td>0.000000</td>\n",
       "    </tr>\n",
       "    <tr>\n",
       "      <th>max</th>\n",
       "      <td>2919.000000</td>\n",
       "      <td>5.476077</td>\n",
       "      <td>10.943782</td>\n",
       "      <td>10.000000</td>\n",
       "      <td>9.000000</td>\n",
       "      <td>2010.000000</td>\n",
       "      <td>2010.000000</td>\n",
       "      <td>1290.000000</td>\n",
       "      <td>4010.000000</td>\n",
       "      <td>1526.000000</td>\n",
       "      <td>...</td>\n",
       "      <td>1.000000</td>\n",
       "      <td>1.000000</td>\n",
       "      <td>1.000000</td>\n",
       "      <td>1.00000</td>\n",
       "      <td>1.000000</td>\n",
       "      <td>1.000000</td>\n",
       "      <td>1.000000</td>\n",
       "      <td>1.000000</td>\n",
       "      <td>1.000000</td>\n",
       "      <td>1.000000</td>\n",
       "    </tr>\n",
       "  </tbody>\n",
       "</table>\n",
       "<p>8 rows × 296 columns</p>\n",
       "</div>"
      ],
      "text/plain": [
       "                Id  LotFrontage      LotArea  OverallQual  OverallCond  \\\n",
       "count  1459.000000  1459.000000  1459.000000  1459.000000  1459.000000   \n",
       "mean   2190.000000     4.253942     9.078854     6.078821     5.553804   \n",
       "std     421.321334     0.375707     0.501942     1.436812     1.113740   \n",
       "min    1461.000000     3.091042     7.293698     1.000000     1.000000   \n",
       "25%    1825.500000     4.110874     8.908154     5.000000     5.000000   \n",
       "50%    2190.000000     4.262680     9.148465     6.000000     5.000000   \n",
       "75%    2554.500000     4.488636     9.351710     7.000000     6.000000   \n",
       "max    2919.000000     5.476077    10.943782    10.000000     9.000000   \n",
       "\n",
       "         YearBuilt  YearRemodAdd   MasVnrArea   BsmtFinSF1   BsmtFinSF2  \\\n",
       "count  1459.000000   1459.000000  1459.000000  1459.000000  1459.000000   \n",
       "mean   1971.357779   1983.662783    99.342015   438.902673    52.583276   \n",
       "std      30.390071     21.130467   176.955080   455.257119   176.698671   \n",
       "min    1879.000000   1950.000000     0.000000     0.000000     0.000000   \n",
       "25%    1953.000000   1963.000000     0.000000     0.000000     0.000000   \n",
       "50%    1973.000000   1992.000000     0.000000   350.000000     0.000000   \n",
       "75%    2001.000000   2004.000000   161.500000   752.000000     0.000000   \n",
       "max    2010.000000   2010.000000  1290.000000  4010.000000  1526.000000   \n",
       "\n",
       "               ...            SaleType_ConLw  SaleType_New  SaleType_Oth  \\\n",
       "count          ...               1459.000000   1459.000000   1459.000000   \n",
       "mean           ...                  0.002056      0.080192      0.002742   \n",
       "std            ...                  0.045314      0.271683      0.052306   \n",
       "min            ...                  0.000000      0.000000      0.000000   \n",
       "25%            ...                  0.000000      0.000000      0.000000   \n",
       "50%            ...                  0.000000      0.000000      0.000000   \n",
       "75%            ...                  0.000000      0.000000      0.000000   \n",
       "max            ...                  1.000000      1.000000      1.000000   \n",
       "\n",
       "       SaleType_WD  SaleCondition_Abnorml  SaleCondition_AdjLand  \\\n",
       "count   1459.00000            1459.000000            1459.000000   \n",
       "mean       0.86292               0.061001               0.005483   \n",
       "std        0.34405               0.239414               0.073871   \n",
       "min        0.00000               0.000000               0.000000   \n",
       "25%        1.00000               0.000000               0.000000   \n",
       "50%        1.00000               0.000000               0.000000   \n",
       "75%        1.00000               0.000000               0.000000   \n",
       "max        1.00000               1.000000               1.000000   \n",
       "\n",
       "       SaleCondition_Alloca  SaleCondition_Family  SaleCondition_Normal  \\\n",
       "count           1459.000000           1459.000000           1459.000000   \n",
       "mean               0.008225              0.017820              0.825223   \n",
       "std                0.090348              0.132344              0.379907   \n",
       "min                0.000000              0.000000              0.000000   \n",
       "25%                0.000000              0.000000              1.000000   \n",
       "50%                0.000000              0.000000              1.000000   \n",
       "75%                0.000000              0.000000              1.000000   \n",
       "max                1.000000              1.000000              1.000000   \n",
       "\n",
       "       SaleCondition_Partial  \n",
       "count            1459.000000  \n",
       "mean                0.082248  \n",
       "std                 0.274837  \n",
       "min                 0.000000  \n",
       "25%                 0.000000  \n",
       "50%                 0.000000  \n",
       "75%                 0.000000  \n",
       "max                 1.000000  \n",
       "\n",
       "[8 rows x 296 columns]"
      ]
     },
     "execution_count": 47,
     "metadata": {},
     "output_type": "execute_result"
    }
   ],
   "source": [
    "HotFile = modified + \"OneHotRaw.pkl\"\n",
    "OneHot = {\"train\": df_train_dummy, \"test\": df_test_dummy}\n",
    "with open(HotFile, 'wb') as f:\n",
    "    pickle.dump(OneHot, f, pickle.HIGHEST_PROTOCOL)"
   ]
  },
  {
   "cell_type": "code",
   "execution_count": 48,
   "metadata": {
    "collapsed": true
   },
   "outputs": [],
   "source": [
    "total = pd.concat((df_train.loc[:,categorical],df_test.loc[:,categorical]),ignore_index=True )\n",
    "from sklearn.preprocessing import LabelEncoder\n",
    "le = LabelEncoder()\n",
    "for c in categorical:\n",
    "    le.fit(total[c])\n",
    "    df_train[c] = le.transform(df_train[c])\n",
    "    df_test[c] = le.transform(df_test[c])"
   ]
  }
 ],
 "metadata": {
  "kernelspec": {
   "display_name": "Python 3",
   "language": "python",
   "name": "python3"
  },
  "language_info": {
   "codemirror_mode": {
    "name": "ipython",
    "version": 3
   },
   "file_extension": ".py",
   "mimetype": "text/x-python",
   "name": "python",
   "nbconvert_exporter": "python",
   "pygments_lexer": "ipython3",
   "version": "3.5.2"
  }
 },
 "nbformat": 4,
 "nbformat_minor": 1
}
