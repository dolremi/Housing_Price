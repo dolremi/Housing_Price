{
 "cells": [
  {
   "cell_type": "markdown",
   "metadata": {},
   "source": [
    "# Data Analysis and processing \n",
    "This notebook provides the high-level introduction to all different notebooks dedicated to data analysis and processing. It can be used as starting points for the data explore journey for the housing prediction competition.\n",
    "* [High Level description](High_level.ipynb)\n",
    "* [A detailed introductions on Numerical Features](Numerical_features.ipynb)\n",
    "* [A detailed introductions on Category Features](Category_features.ipynb)\n",
    "* [SpreadSheet to details every feature in the process](https://docs.google.com/spreadsheets/d/1bxnc2s3DG-MOfe-sHBF1bNEdQbvXlCkwuSWP7y_xCAo/edit#gid=0)\n",
    "* [The different versions of data generations](dataset_benchmark.ipynb)\n",
    "* [Feature selection](Feature_Selection.ipynb)"
   ]
  }
 ],
 "metadata": {
  "kernelspec": {
   "display_name": "Python 3",
   "language": "python",
   "name": "python3"
  },
  "language_info": {
   "codemirror_mode": {
    "name": "ipython",
    "version": 3
   },
   "file_extension": ".py",
   "mimetype": "text/x-python",
   "name": "python",
   "nbconvert_exporter": "python",
   "pygments_lexer": "ipython3",
   "version": "3.5.2"
  }
 },
 "nbformat": 4,
 "nbformat_minor": 1
}
