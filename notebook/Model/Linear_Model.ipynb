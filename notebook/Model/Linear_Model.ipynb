{
 "cells": [
  {
   "cell_type": "markdown",
   "metadata": {},
   "source": [
    "# Linear model \n",
    "This notebook explores the linear model on various datasets."
   ]
  },
  {
   "cell_type": "code",
   "execution_count": 1,
   "metadata": {
    "collapsed": true
   },
   "outputs": [],
   "source": [
    "import pandas as pd\n",
    "import numpy as np\n",
    "import seaborn as sns\n",
    "import scipy.stats as st\n",
    "import matplotlib.pyplot as plt\n",
    "%matplotlib inline \n",
    "plt.style.use('ggplot')\n",
    "import warnings\n",
    "import json\n",
    "import pickle\n",
    "warnings.filterwarnings('ignore')"
   ]
  },
  {
   "cell_type": "code",
   "execution_count": 2,
   "metadata": {
    "collapsed": true
   },
   "outputs": [],
   "source": [
    "modified = \"../../data/modified/\""
   ]
  },
  {
   "cell_type": "code",
   "execution_count": 3,
   "metadata": {
    "collapsed": true
   },
   "outputs": [],
   "source": [
    "OneHot = modified + \"OneHotDerived2_Lasso.pkl\""
   ]
  },
  {
   "cell_type": "code",
   "execution_count": 4,
   "metadata": {
    "collapsed": true
   },
   "outputs": [],
   "source": [
    "OneHotData = pickle.load(open(OneHot, \"rb\"))"
   ]
  },
  {
   "cell_type": "code",
   "execution_count": 5,
   "metadata": {
    "collapsed": true
   },
   "outputs": [],
   "source": [
    "df_train_X = OneHotData[\"train_X\"]\n",
    "df_test_X = OneHotData[\"test_X\"]\n",
    "y = OneHotData[\"y\"]\n",
    "Id = OneHotData[\"id\"]"
   ]
  },
  {
   "cell_type": "code",
   "execution_count": 6,
   "metadata": {
    "collapsed": true
   },
   "outputs": [],
   "source": [
    "from sklearn.metrics import make_scorer, mean_squared_error\n",
    "scorer = make_scorer(mean_squared_error, False)"
   ]
  },
  {
   "cell_type": "code",
   "execution_count": 7,
   "metadata": {
    "collapsed": true
   },
   "outputs": [],
   "source": [
    "from sklearn import linear_model\n",
    "reg = linear_model.RidgeCV(alphas = range(25,100),  scoring = scorer, cv=10)"
   ]
  },
  {
   "cell_type": "code",
   "execution_count": 8,
   "metadata": {},
   "outputs": [
    {
     "data": {
      "text/plain": [
       "RidgeCV(alphas=range(25, 100), cv=10, fit_intercept=True, gcv_mode=None,\n",
       "    normalize=False,\n",
       "    scoring=make_scorer(mean_squared_error, greater_is_better=False),\n",
       "    store_cv_values=False)"
      ]
     },
     "execution_count": 8,
     "metadata": {},
     "output_type": "execute_result"
    }
   ],
   "source": [
    "reg.fit(df_train_X, y)"
   ]
  },
  {
   "cell_type": "code",
   "execution_count": 9,
   "metadata": {},
   "outputs": [
    {
     "data": {
      "text/plain": [
       "72"
      ]
     },
     "execution_count": 9,
     "metadata": {},
     "output_type": "execute_result"
    }
   ],
   "source": [
    "reg.alpha_"
   ]
  },
  {
   "cell_type": "code",
   "execution_count": 10,
   "metadata": {
    "collapsed": true
   },
   "outputs": [],
   "source": [
    "p_pred = np.expm1(reg.predict(df_test_X))\n",
    "solution = pd.DataFrame({\"id\": Id, \"SalePrice\": p_pred}, columns=[\"id\", \"SalePrice\"])\n",
    "solution.to_csv(\"../../data/submission/OneHotDerived2-Lasso-Ridge.csv\",index = False)"
   ]
  },
  {
   "cell_type": "code",
   "execution_count": 11,
   "metadata": {},
   "outputs": [],
   "source": [
    "OneHot = modified + \"OneHotDerived2_RLasso0.pkl\""
   ]
  },
  {
   "cell_type": "code",
   "execution_count": 12,
   "metadata": {
    "collapsed": true
   },
   "outputs": [],
   "source": [
    "OneHotData = pickle.load(open(OneHot, \"rb\"))"
   ]
  },
  {
   "cell_type": "code",
   "execution_count": 13,
   "metadata": {
    "collapsed": true
   },
   "outputs": [],
   "source": [
    "df_train_X = OneHotData[\"train_X\"]\n",
    "df_test_X = OneHotData[\"test_X\"]\n",
    "y = OneHotData[\"y\"]\n",
    "Id = OneHotData[\"id\"]"
   ]
  },
  {
   "cell_type": "code",
   "execution_count": 14,
   "metadata": {
    "collapsed": true
   },
   "outputs": [],
   "source": [
    "from sklearn.metrics import make_scorer, mean_squared_error\n",
    "scorer = make_scorer(mean_squared_error, False)"
   ]
  },
  {
   "cell_type": "code",
   "execution_count": 15,
   "metadata": {
    "collapsed": true
   },
   "outputs": [],
   "source": [
    "from sklearn import linear_model\n",
    "reg = linear_model.RidgeCV(alphas = range(200,250),  scoring = scorer, cv=10)"
   ]
  },
  {
   "cell_type": "code",
   "execution_count": 16,
   "metadata": {},
   "outputs": [
    {
     "data": {
      "text/plain": [
       "RidgeCV(alphas=range(200, 250), cv=10, fit_intercept=True, gcv_mode=None,\n",
       "    normalize=False,\n",
       "    scoring=make_scorer(mean_squared_error, greater_is_better=False),\n",
       "    store_cv_values=False)"
      ]
     },
     "execution_count": 16,
     "metadata": {},
     "output_type": "execute_result"
    }
   ],
   "source": [
    "reg.fit(df_train_X, y)"
   ]
  },
  {
   "cell_type": "code",
   "execution_count": 17,
   "metadata": {},
   "outputs": [
    {
     "data": {
      "text/plain": [
       "228"
      ]
     },
     "execution_count": 17,
     "metadata": {},
     "output_type": "execute_result"
    }
   ],
   "source": [
    "reg.alpha_"
   ]
  },
  {
   "cell_type": "code",
   "execution_count": 18,
   "metadata": {
    "collapsed": true
   },
   "outputs": [],
   "source": [
    "p_pred = np.expm1(reg.predict(df_test_X))\n",
    "solution = pd.DataFrame({\"id\": Id, \"SalePrice\": p_pred}, columns=[\"id\", \"SalePrice\"])\n",
    "solution.to_csv(\"../../data/submission/OneHotDerived2-RLasso0-Ridge.csv\",index = False)"
   ]
  },
  {
   "cell_type": "code",
   "execution_count": 19,
   "metadata": {
    "collapsed": true
   },
   "outputs": [],
   "source": [
    "OneHot = modified + \"OneHotDerived2_RLasso1.0.pkl\""
   ]
  },
  {
   "cell_type": "code",
   "execution_count": 20,
   "metadata": {
    "collapsed": true
   },
   "outputs": [],
   "source": [
    "OneHotData = pickle.load(open(OneHot, \"rb\"))"
   ]
  },
  {
   "cell_type": "code",
   "execution_count": 21,
   "metadata": {
    "collapsed": true
   },
   "outputs": [],
   "source": [
    "df_train_X = OneHotData[\"train_X\"]\n",
    "df_test_X = OneHotData[\"test_X\"]\n",
    "y = OneHotData[\"y\"]\n",
    "Id = OneHotData[\"id\"]"
   ]
  },
  {
   "cell_type": "code",
   "execution_count": 22,
   "metadata": {
    "collapsed": true
   },
   "outputs": [],
   "source": [
    "reg = linear_model.RidgeCV(alphas = range(150,250),  scoring = scorer, cv=10)"
   ]
  },
  {
   "cell_type": "code",
   "execution_count": 23,
   "metadata": {},
   "outputs": [
    {
     "data": {
      "text/plain": [
       "RidgeCV(alphas=range(150, 250), cv=10, fit_intercept=True, gcv_mode=None,\n",
       "    normalize=False,\n",
       "    scoring=make_scorer(mean_squared_error, greater_is_better=False),\n",
       "    store_cv_values=False)"
      ]
     },
     "execution_count": 23,
     "metadata": {},
     "output_type": "execute_result"
    }
   ],
   "source": [
    "reg.fit(df_train_X, y)"
   ]
  },
  {
   "cell_type": "code",
   "execution_count": 24,
   "metadata": {},
   "outputs": [
    {
     "data": {
      "text/plain": [
       "159"
      ]
     },
     "execution_count": 24,
     "metadata": {},
     "output_type": "execute_result"
    }
   ],
   "source": [
    "reg.alpha_"
   ]
  },
  {
   "cell_type": "code",
   "execution_count": 25,
   "metadata": {
    "collapsed": true
   },
   "outputs": [],
   "source": [
    "p_pred = np.expm1(reg.predict(df_test_X))\n",
    "solution = pd.DataFrame({\"id\": Id, \"SalePrice\": p_pred}, columns=[\"id\", \"SalePrice\"])\n",
    "solution.to_csv(\"../../data/submission/OneHotDerived2-RLasso0-Ridge1.0.csv\",index = False)"
   ]
  },
  {
   "cell_type": "code",
   "execution_count": 26,
   "metadata": {
    "collapsed": true
   },
   "outputs": [],
   "source": [
    "OneHot = modified + \"OneHotDerived2_RLasso2.0.pkl\"\n",
    "OneHotData = pickle.load(open(OneHot, \"rb\"))"
   ]
  },
  {
   "cell_type": "code",
   "execution_count": 27,
   "metadata": {
    "collapsed": true
   },
   "outputs": [],
   "source": [
    "df_train_X = OneHotData[\"train_X\"]\n",
    "df_test_X = OneHotData[\"test_X\"]\n",
    "y = OneHotData[\"y\"]\n",
    "Id = OneHotData[\"id\"]"
   ]
  },
  {
   "cell_type": "code",
   "execution_count": 28,
   "metadata": {
    "collapsed": true
   },
   "outputs": [],
   "source": [
    "reg = linear_model.RidgeCV(alphas = range(50,150),  scoring = scorer, cv=10)"
   ]
  },
  {
   "cell_type": "code",
   "execution_count": 29,
   "metadata": {},
   "outputs": [
    {
     "data": {
      "text/plain": [
       "89"
      ]
     },
     "execution_count": 29,
     "metadata": {},
     "output_type": "execute_result"
    }
   ],
   "source": [
    "reg.fit(df_train_X, y)\n",
    "reg.alpha_"
   ]
  },
  {
   "cell_type": "code",
   "execution_count": 30,
   "metadata": {
    "collapsed": true
   },
   "outputs": [],
   "source": [
    "p_pred = np.expm1(reg.predict(df_test_X))\n",
    "solution = pd.DataFrame({\"id\": Id, \"SalePrice\": p_pred}, columns=[\"id\", \"SalePrice\"])\n",
    "solution.to_csv(\"../../data/submission/OneHotDerived2-RLasso0-Ridge2.0.csv\",index = False)"
   ]
  },
  {
   "cell_type": "code",
   "execution_count": 31,
   "metadata": {
    "collapsed": true
   },
   "outputs": [],
   "source": [
    "Bayesian = modified + \"BayesianDerived2_Lasso.pkl\"\n",
    "BayesianData = pickle.load(open(Bayesian, \"rb\"))"
   ]
  },
  {
   "cell_type": "code",
   "execution_count": 32,
   "metadata": {
    "collapsed": true
   },
   "outputs": [],
   "source": [
    "df_train_X = BayesianData[\"train_X\"]\n",
    "df_test_X = BayesianData[\"test_X\"]\n",
    "y = BayesianData[\"y\"]\n",
    "Id = BayesianData[\"id\"]"
   ]
  },
  {
   "cell_type": "code",
   "execution_count": 33,
   "metadata": {
    "collapsed": true
   },
   "outputs": [],
   "source": [
    "reg = linear_model.RidgeCV(alphas = range(50,100),  scoring = scorer,cv=10)"
   ]
  },
  {
   "cell_type": "code",
   "execution_count": 34,
   "metadata": {},
   "outputs": [
    {
     "data": {
      "text/plain": [
       "64"
      ]
     },
     "execution_count": 34,
     "metadata": {},
     "output_type": "execute_result"
    }
   ],
   "source": [
    "reg.fit(df_train_X, y)\n",
    "reg.alpha_"
   ]
  },
  {
   "cell_type": "code",
   "execution_count": 35,
   "metadata": {
    "collapsed": true
   },
   "outputs": [],
   "source": [
    "p_pred = np.expm1(reg.predict(df_test_X))\n",
    "solution = pd.DataFrame({\"id\": Id, \"SalePrice\": p_pred}, columns=[\"id\", \"SalePrice\"])\n",
    "solution.to_csv(\"../../data/submission/BayesianDerived2_Lasso-Ridge.csv\",index = False)"
   ]
  },
  {
   "cell_type": "code",
   "execution_count": 36,
   "metadata": {
    "collapsed": true
   },
   "outputs": [],
   "source": [
    "Bayesian = modified + \"BayesianDerived2_RLasso0.pkl\"\n",
    "BayesianData = pickle.load(open(Bayesian, \"rb\"))"
   ]
  },
  {
   "cell_type": "code",
   "execution_count": 37,
   "metadata": {
    "collapsed": true
   },
   "outputs": [],
   "source": [
    "df_train_X = BayesianData[\"train_X\"]\n",
    "df_test_X = BayesianData[\"test_X\"]\n",
    "y = BayesianData[\"y\"]\n",
    "Id = BayesianData[\"id\"]"
   ]
  },
  {
   "cell_type": "code",
   "execution_count": 38,
   "metadata": {
    "collapsed": true
   },
   "outputs": [],
   "source": [
    "reg = linear_model.RidgeCV(alphas = [0.34,0.35,0.36,0.37,0.38,0.39],  scoring = scorer,cv=10)"
   ]
  },
  {
   "cell_type": "code",
   "execution_count": 39,
   "metadata": {},
   "outputs": [
    {
     "data": {
      "text/plain": [
       "0.36"
      ]
     },
     "execution_count": 39,
     "metadata": {},
     "output_type": "execute_result"
    }
   ],
   "source": [
    "reg.fit(df_train_X, y)\n",
    "reg.alpha_"
   ]
  },
  {
   "cell_type": "code",
   "execution_count": 40,
   "metadata": {
    "collapsed": true
   },
   "outputs": [],
   "source": [
    "p_pred = np.expm1(reg.predict(df_test_X))\n",
    "solution = pd.DataFrame({\"id\": Id, \"SalePrice\": p_pred}, columns=[\"id\", \"SalePrice\"])\n",
    "solution.to_csv(\"../../data/submission/BayesianDerived2_RLasso0-Ridge.csv\",index = False)"
   ]
  },
  {
   "cell_type": "code",
   "execution_count": 41,
   "metadata": {
    "collapsed": true
   },
   "outputs": [],
   "source": [
    "Bayesian = modified + \"BayesianDerived2_RLasso1.0.pkl\"\n",
    "BayesianData = pickle.load(open(Bayesian, \"rb\"))"
   ]
  },
  {
   "cell_type": "code",
   "execution_count": 42,
   "metadata": {
    "collapsed": true
   },
   "outputs": [],
   "source": [
    "df_train_X = BayesianData[\"train_X\"]\n",
    "df_test_X = BayesianData[\"test_X\"]\n",
    "y = BayesianData[\"y\"]\n",
    "Id = BayesianData[\"id\"]"
   ]
  },
  {
   "cell_type": "code",
   "execution_count": 43,
   "metadata": {
    "collapsed": true
   },
   "outputs": [],
   "source": [
    "reg = linear_model.RidgeCV(alphas = range(20,50),  scoring = scorer,cv=10)"
   ]
  },
  {
   "cell_type": "code",
   "execution_count": 44,
   "metadata": {},
   "outputs": [
    {
     "data": {
      "text/plain": [
       "37"
      ]
     },
     "execution_count": 44,
     "metadata": {},
     "output_type": "execute_result"
    }
   ],
   "source": [
    "reg.fit(df_train_X, y)\n",
    "reg.alpha_"
   ]
  },
  {
   "cell_type": "code",
   "execution_count": 45,
   "metadata": {
    "collapsed": true
   },
   "outputs": [],
   "source": [
    "p_pred = np.expm1(reg.predict(df_test_X))\n",
    "solution = pd.DataFrame({\"id\": Id, \"SalePrice\": p_pred}, columns=[\"id\", \"SalePrice\"])\n",
    "solution.to_csv(\"../../data/submission/BayesianDerived2_RLasso1.0-Ridge.csv\",index = False)"
   ]
  }
 ],
 "metadata": {
  "kernelspec": {
   "display_name": "Python 3",
   "language": "python",
   "name": "python3"
  },
  "language_info": {
   "codemirror_mode": {
    "name": "ipython",
    "version": 3
   },
   "file_extension": ".py",
   "mimetype": "text/x-python",
   "name": "python",
   "nbconvert_exporter": "python",
   "pygments_lexer": "ipython3",
   "version": "3.5.2"
  }
 },
 "nbformat": 4,
 "nbformat_minor": 1
}
